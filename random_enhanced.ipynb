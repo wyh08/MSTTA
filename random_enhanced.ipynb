{
 "cells": [
  {
   "cell_type": "code",
   "execution_count": 1,
   "id": "da979609-8b1e-41a8-8b9a-9c231ff80dd6",
   "metadata": {},
   "outputs": [
    {
     "name": "stdout",
     "output_type": "stream",
     "text": [
      "save to test_aug_pre_R.csv\n"
     ]
    }
   ],
   "source": [
    "import pandas as pd\n",
    "import random\n",
    "import numpy as np\n",
    "\n",
    "random.seed(42)\n",
    "np.random.seed(42)\n",
    "\n",
    "file_path = 'test_aug_pre_M.csv'\n",
    "df = pd.read_csv(file_path,encoding = 'ISO-8859-1')\n",
    "\n",
    "def generate_different_numbers():\n",
    "    num1 = random.randint(0, 4)\n",
    "    \n",
    "    num2 = random.choice([x for x in range(0, 5) if x != num1])\n",
    "    return num1, num2\n",
    "\n",
    "for i in range(len(df)):\n",
    "    df.at[i, 'aug_select_01'], df.at[i, 'aug_select_02'] = generate_different_numbers()\n",
    "\n",
    "output_path = 'test_aug_pre_R.csv'\n",
    "df.to_csv(output_path, index=False)\n",
    "\n",
    "print(f\"save to {output_path}\")\n"
   ]
  },
  {
   "cell_type": "code",
   "execution_count": null,
   "id": "3019a9d9-4ce7-4977-b5c2-01ba76b620da",
   "metadata": {},
   "outputs": [],
   "source": []
  }
 ],
 "metadata": {
  "kernelspec": {
   "display_name": "pytorch",
   "language": "python",
   "name": "pytorch"
  },
  "language_info": {
   "codemirror_mode": {
    "name": "ipython",
    "version": 3
   },
   "file_extension": ".py",
   "mimetype": "text/x-python",
   "name": "python",
   "nbconvert_exporter": "python",
   "pygments_lexer": "ipython3",
   "version": "3.9.19"
  }
 },
 "nbformat": 4,
 "nbformat_minor": 5
}
