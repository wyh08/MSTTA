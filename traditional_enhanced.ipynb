{
 "cells": [
  {
   "cell_type": "code",
   "execution_count": 2,
   "id": "3ff83b1d-1e0a-41e0-91f9-a48d2abc5f75",
   "metadata": {},
   "outputs": [
    {
     "name": "stdout",
     "output_type": "stream",
     "text": [
      "File saved to test_aug_pre_T.csv\n"
     ]
    }
   ],
   "source": [
    "import pandas as pd\n",
    "\n",
    "df = pd.read_csv('test_aug_pre_M.csv', encoding='ISO-8859-1')\n",
    "\n",
    "df['aug_select_01'] = 0  \n",
    "df['aug_select_02'] = 2  \n",
    "\n",
    "output_path = 'test_aug_pre_T.csv'\n",
    "df.to_csv(output_path, index=False)\n",
    "\n",
    "print(f\"File saved to {output_path}\")"
   ]
  },
  {
   "cell_type": "code",
   "execution_count": null,
   "id": "04d7cf73-9e9b-4f92-a10d-e5e93d3fd0b9",
   "metadata": {},
   "outputs": [],
   "source": []
  }
 ],
 "metadata": {
  "kernelspec": {
   "display_name": "pytorch",
   "language": "python",
   "name": "pytorch"
  },
  "language_info": {
   "codemirror_mode": {
    "name": "ipython",
    "version": 3
   },
   "file_extension": ".py",
   "mimetype": "text/x-python",
   "name": "python",
   "nbconvert_exporter": "python",
   "pygments_lexer": "ipython3",
   "version": "3.9.19"
  }
 },
 "nbformat": 4,
 "nbformat_minor": 5
}
