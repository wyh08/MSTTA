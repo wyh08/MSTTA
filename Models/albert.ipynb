{
 "cells": [
  {
   "cell_type": "code",
   "execution_count": 1,
   "id": "f3f5f3f9-33c6-4fbc-9a51-932b66ffed05",
   "metadata": {},
   "outputs": [
    {
     "name": "stderr",
     "output_type": "stream",
     "text": [
      "Some weights of the model checkpoint at albert-base-v2 were not used when initializing AlbertForSequenceClassification: ['predictions.dense.bias', 'predictions.LayerNorm.bias', 'predictions.LayerNorm.weight', 'predictions.dense.weight', 'predictions.decoder.weight', 'predictions.decoder.bias', 'predictions.bias']\n",
      "- This IS expected if you are initializing AlbertForSequenceClassification from the checkpoint of a model trained on another task or with another architecture (e.g. initializing a BertForSequenceClassification model from a BertForPreTraining model).\n",
      "- This IS NOT expected if you are initializing AlbertForSequenceClassification from the checkpoint of a model that you expect to be exactly identical (initializing a BertForSequenceClassification model from a BertForSequenceClassification model).\n",
      "Some weights of AlbertForSequenceClassification were not initialized from the model checkpoint at albert-base-v2 and are newly initialized: ['classifier.bias', 'classifier.weight']\n",
      "You should probably TRAIN this model on a down-stream task to be able to use it for predictions and inference.\n"
     ]
    },
    {
     "name": "stdout",
     "output_type": "stream",
     "text": [
      "albert.embeddings.word_embeddings.weight: True\n",
      "albert.embeddings.position_embeddings.weight: True\n",
      "albert.embeddings.token_type_embeddings.weight: True\n",
      "albert.embeddings.LayerNorm.weight: True\n",
      "albert.embeddings.LayerNorm.bias: True\n",
      "albert.encoder.embedding_hidden_mapping_in.weight: True\n",
      "albert.encoder.embedding_hidden_mapping_in.bias: True\n",
      "albert.encoder.albert_layer_groups.0.albert_layers.0.full_layer_layer_norm.weight: True\n",
      "albert.encoder.albert_layer_groups.0.albert_layers.0.full_layer_layer_norm.bias: True\n",
      "albert.encoder.albert_layer_groups.0.albert_layers.0.attention.query.weight: True\n",
      "albert.encoder.albert_layer_groups.0.albert_layers.0.attention.query.bias: True\n",
      "albert.encoder.albert_layer_groups.0.albert_layers.0.attention.key.weight: True\n",
      "albert.encoder.albert_layer_groups.0.albert_layers.0.attention.key.bias: True\n",
      "albert.encoder.albert_layer_groups.0.albert_layers.0.attention.value.weight: True\n",
      "albert.encoder.albert_layer_groups.0.albert_layers.0.attention.value.bias: True\n",
      "albert.encoder.albert_layer_groups.0.albert_layers.0.attention.dense.weight: True\n",
      "albert.encoder.albert_layer_groups.0.albert_layers.0.attention.dense.bias: True\n",
      "albert.encoder.albert_layer_groups.0.albert_layers.0.attention.LayerNorm.weight: True\n",
      "albert.encoder.albert_layer_groups.0.albert_layers.0.attention.LayerNorm.bias: True\n",
      "albert.encoder.albert_layer_groups.0.albert_layers.0.ffn.weight: True\n",
      "albert.encoder.albert_layer_groups.0.albert_layers.0.ffn.bias: True\n",
      "albert.encoder.albert_layer_groups.0.albert_layers.0.ffn_output.weight: True\n",
      "albert.encoder.albert_layer_groups.0.albert_layers.0.ffn_output.bias: True\n",
      "albert.pooler.weight: True\n",
      "albert.pooler.bias: True\n",
      "classifier.weight: True\n",
      "classifier.bias: True\n",
      "Epoch 1/10\n",
      "--------------------------------------------------\n"
     ]
    },
    {
     "name": "stderr",
     "output_type": "stream",
     "text": [
      "Training: 100%|██████████████████████████████████████████████████████████████████████| 267/267 [01:32<00:00,  2.89it/s]\n"
     ]
    },
    {
     "name": "stdout",
     "output_type": "stream",
     "text": [
      "Train loss 1.4170479828052307, accuracy 0.37862827715355807\n"
     ]
    },
    {
     "name": "stderr",
     "output_type": "stream",
     "text": [
      "Evaluating: 100%|██████████████████████████████████████████████████████████████████████| 35/35 [00:04<00:00,  7.87it/s]\n"
     ]
    },
    {
     "name": "stdout",
     "output_type": "stream",
     "text": [
      "Val loss 1.2039932761873517, accuracy 0.4713896457765667\n",
      "Epoch 2/10\n",
      "--------------------------------------------------\n"
     ]
    },
    {
     "name": "stderr",
     "output_type": "stream",
     "text": [
      "Training: 100%|██████████████████████████████████████████████████████████████████████| 267/267 [01:31<00:00,  2.92it/s]\n"
     ]
    },
    {
     "name": "stdout",
     "output_type": "stream",
     "text": [
      "Train loss 1.1172361592674969, accuracy 0.5070224719101124\n"
     ]
    },
    {
     "name": "stderr",
     "output_type": "stream",
     "text": [
      "Evaluating: 100%|██████████████████████████████████████████████████████████████████████| 35/35 [00:04<00:00,  7.86it/s]\n"
     ]
    },
    {
     "name": "stdout",
     "output_type": "stream",
     "text": [
      "Val loss 1.1543403540338788, accuracy 0.4786557674841053\n",
      "Epoch 3/10\n",
      "--------------------------------------------------\n"
     ]
    },
    {
     "name": "stderr",
     "output_type": "stream",
     "text": [
      "Training: 100%|██████████████████████████████████████████████████████████████████████| 267/267 [01:31<00:00,  2.92it/s]\n"
     ]
    },
    {
     "name": "stdout",
     "output_type": "stream",
     "text": [
      "Train loss 0.971652243244514, accuracy 0.5773642322097379\n"
     ]
    },
    {
     "name": "stderr",
     "output_type": "stream",
     "text": [
      "Evaluating: 100%|██████████████████████████████████████████████████████████████████████| 35/35 [00:04<00:00,  7.83it/s]\n"
     ]
    },
    {
     "name": "stdout",
     "output_type": "stream",
     "text": [
      "Val loss 1.1019754460879734, accuracy 0.5131698455949137\n",
      "Epoch 4/10\n",
      "--------------------------------------------------\n"
     ]
    },
    {
     "name": "stderr",
     "output_type": "stream",
     "text": [
      "Training: 100%|██████████████████████████████████████████████████████████████████████| 267/267 [01:32<00:00,  2.90it/s]\n"
     ]
    },
    {
     "name": "stdout",
     "output_type": "stream",
     "text": [
      "Train loss 0.817343610279569, accuracy 0.6645599250936329\n"
     ]
    },
    {
     "name": "stderr",
     "output_type": "stream",
     "text": [
      "Evaluating: 100%|██████████████████████████████████████████████████████████████████████| 35/35 [00:04<00:00,  7.78it/s]\n"
     ]
    },
    {
     "name": "stdout",
     "output_type": "stream",
     "text": [
      "Val loss 1.146733592237745, accuracy 0.5331516802906449\n",
      "Epoch 5/10\n",
      "--------------------------------------------------\n"
     ]
    },
    {
     "name": "stderr",
     "output_type": "stream",
     "text": [
      "Training: 100%|██████████████████████████████████████████████████████████████████████| 267/267 [01:32<00:00,  2.88it/s]\n"
     ]
    },
    {
     "name": "stdout",
     "output_type": "stream",
     "text": [
      "Train loss 0.678650792953227, accuracy 0.7437968164794008\n"
     ]
    },
    {
     "name": "stderr",
     "output_type": "stream",
     "text": [
      "Evaluating: 100%|██████████████████████████████████████████████████████████████████████| 35/35 [00:04<00:00,  7.69it/s]\n"
     ]
    },
    {
     "name": "stdout",
     "output_type": "stream",
     "text": [
      "Val loss 1.2285424590110778, accuracy 0.49227974568574023\n",
      "Epoch 6/10\n",
      "--------------------------------------------------\n"
     ]
    },
    {
     "name": "stderr",
     "output_type": "stream",
     "text": [
      "Training: 100%|██████████████████████████████████████████████████████████████████████| 267/267 [01:33<00:00,  2.85it/s]\n"
     ]
    },
    {
     "name": "stdout",
     "output_type": "stream",
     "text": [
      "Train loss 0.5367936474107178, accuracy 0.8195224719101124\n"
     ]
    },
    {
     "name": "stderr",
     "output_type": "stream",
     "text": [
      "Evaluating: 100%|██████████████████████████████████████████████████████████████████████| 35/35 [00:04<00:00,  7.72it/s]\n"
     ]
    },
    {
     "name": "stdout",
     "output_type": "stream",
     "text": [
      "Val loss 1.2654025963374547, accuracy 0.5149863760217983\n",
      "Epoch 7/10\n",
      "--------------------------------------------------\n"
     ]
    },
    {
     "name": "stderr",
     "output_type": "stream",
     "text": [
      "Training: 100%|██████████████████████████████████████████████████████████████████████| 267/267 [01:34<00:00,  2.84it/s]\n"
     ]
    },
    {
     "name": "stdout",
     "output_type": "stream",
     "text": [
      "Train loss 0.39620456841777774, accuracy 0.8854166666666666\n"
     ]
    },
    {
     "name": "stderr",
     "output_type": "stream",
     "text": [
      "Evaluating: 100%|██████████████████████████████████████████████████████████████████████| 35/35 [00:04<00:00,  7.63it/s]"
     ]
    },
    {
     "name": "stdout",
     "output_type": "stream",
     "text": [
      "Val loss 1.4068447896412442, accuracy 0.49409627611262485\n",
      "Early stopping triggered\n"
     ]
    },
    {
     "name": "stderr",
     "output_type": "stream",
     "text": [
      "\n"
     ]
    }
   ],
   "source": [
    "import pandas as pd\n",
    "import torch\n",
    "from transformers import AlbertTokenizer, AlbertForSequenceClassification, AdamW, get_linear_schedule_with_warmup\n",
    "from torch.utils.data import Dataset, DataLoader\n",
    "import torch.nn.functional as F\n",
    "import numpy as np\n",
    "from sklearn.metrics import accuracy_score,f1_score, precision_score, recall_score\n",
    "from tqdm import tqdm\n",
    "from scipy.stats import entropy\n",
    "import math\n",
    "import random\n",
    "\n",
    "torch.manual_seed(42)\n",
    "random.seed(42)\n",
    "np.random.seed(42)\n",
    "\n",
    "train_df = pd.read_csv('train.csv')\n",
    "val_df = pd.read_csv('validation.csv')\n",
    "test_df = pd.read_csv('test.csv')\n",
    "T_TTA_test_df = pd.read_csv('T_TTA_enhanced_test.csv')\n",
    "R_TTA_test_df = pd.read_csv('R_TTA_enhanced_test.csv')\n",
    "MSTTA_test_df = pd.read_csv('MSTTA_enhanced_test.csv')\n",
    "\n",
    "class SentimentDataset(Dataset):\n",
    "    def __init__(self, dataframe, tokenizer, max_len):\n",
    "        self.dataframe = dataframe\n",
    "        self.tokenizer = tokenizer\n",
    "        self.max_len = max_len\n",
    "\n",
    "    def __len__(self):\n",
    "        return len(self.dataframe)\n",
    "\n",
    "    def __getitem__(self, index):\n",
    "        sentence = self.dataframe.iloc[index]['sentence']\n",
    "        label = self.dataframe.iloc[index]['label']\n",
    "        encoding = self.tokenizer(\n",
    "            sentence,\n",
    "            add_special_tokens=True,\n",
    "            max_length=self.max_len,\n",
    "            padding='max_length',\n",
    "            return_attention_mask=True,\n",
    "            return_tensors='pt',\n",
    "            truncation=True\n",
    "        )\n",
    "        return {\n",
    "            'input_ids': encoding['input_ids'].squeeze(),\n",
    "            'attention_mask': encoding['attention_mask'].squeeze(),\n",
    "            'label': torch.tensor(label, dtype=torch.long)\n",
    "        }\n",
    "\n",
    "def create_data_loader(df, tokenizer, max_len, batch_size,shuffle):\n",
    "    ds = SentimentDataset(df, tokenizer, max_len)\n",
    "    return DataLoader(ds, batch_size=batch_size, num_workers=0, pin_memory=True,shuffle=shuffle)\n",
    "\n",
    "PRE_TRAINED_MODEL_NAME = 'albert-base-v2'\n",
    "tokenizer = AlbertTokenizer.from_pretrained(PRE_TRAINED_MODEL_NAME)\n",
    "model = AlbertForSequenceClassification.from_pretrained(PRE_TRAINED_MODEL_NAME, num_labels=5)\n",
    "\n",
    "for name, param in model.named_parameters():\n",
    "    print(f\"{name}: {param.requires_grad}\")\n",
    " \n",
    "device = torch.device(\"cuda\" if torch.cuda.is_available() else \"cpu\")\n",
    "model = model.to(device)\n",
    "\n",
    "max_len = 128\n",
    "batch_size = 32  \n",
    "epochs = 10\n",
    "learning_rate = 1e-5  \n",
    "\n",
    "train_data_loader = create_data_loader(train_df, tokenizer, max_len, batch_size,shuffle=True)\n",
    "val_data_loader = create_data_loader(val_df, tokenizer, max_len, batch_size,shuffle=False)\n",
    "test_data_loader = create_data_loader(test_df, tokenizer, max_len, batch_size,shuffle=False)\n",
    "T_TTA_test_data_loader = create_data_loader(T_TTA_test_df, tokenizer, max_len, batch_size,shuffle=False)\n",
    "R_TTA_test_data_loader = create_data_loader(R_TTA_test_df, tokenizer, max_len, batch_size,shuffle=False)\n",
    "MSTTA_test_data_loader= create_data_loader(MSTTA_test_df, tokenizer, max_len, batch_size,shuffle=False)\n",
    "\n",
    "optimizer = AdamW(model.parameters(), lr=learning_rate)\n",
    "total_steps = len(train_data_loader) * epochs\n",
    "\n",
    "scheduler = get_linear_schedule_with_warmup(\n",
    "    optimizer,\n",
    "    num_warmup_steps=int(0.1 * total_steps),\n",
    "    num_training_steps=total_steps\n",
    ")\n",
    "\n",
    "loss_fn = torch.nn.CrossEntropyLoss().to(device)\n",
    "\n",
    "def train_epoch(model, data_loader, loss_fn, optimizer, device, scheduler):\n",
    "    model.train()\n",
    "    total_loss, correct_predictions = 0, 0\n",
    "\n",
    "    for batch in tqdm(data_loader, desc=\"Training\"):\n",
    "        input_ids = batch['input_ids'].to(device)\n",
    "        attention_mask = batch['attention_mask'].to(device)\n",
    "        labels = batch['label'].to(device)\n",
    "\n",
    "        outputs = model(input_ids=input_ids, attention_mask=attention_mask)\n",
    "        _, preds = torch.max(outputs.logits, dim=1)\n",
    "        loss = loss_fn(outputs.logits, labels)\n",
    "\n",
    "        correct_predictions += torch.sum(preds == labels)\n",
    "        total_loss += loss.item()\n",
    "\n",
    "        loss.backward()\n",
    "        torch.nn.utils.clip_grad_norm_(model.parameters(), max_norm=1.0)\n",
    "        optimizer.step()\n",
    "        scheduler.step()\n",
    "        optimizer.zero_grad()\n",
    "\n",
    "    return correct_predictions.double() / len(data_loader.dataset), total_loss / len(data_loader)\n",
    "\n",
    "def eval_model(model, data_loader, loss_fn, device):\n",
    "    model.eval()\n",
    "    total_loss, correct_predictions = 0, 0\n",
    "\n",
    "    with torch.no_grad():\n",
    "        for batch in tqdm(data_loader, desc=\"Evaluating\"):\n",
    "            input_ids = batch['input_ids'].to(device)\n",
    "            attention_mask = batch['attention_mask'].to(device)\n",
    "            labels = batch['label'].to(device)\n",
    "\n",
    "            outputs = model(input_ids=input_ids, attention_mask=attention_mask)\n",
    "            _, preds = torch.max(outputs.logits, dim=1)\n",
    "            loss = loss_fn(outputs.logits, labels)\n",
    "\n",
    "            correct_predictions += torch.sum(preds == labels)\n",
    "            total_loss += loss.item()\n",
    "\n",
    "    return correct_predictions.double() / len(data_loader.dataset), total_loss / len(data_loader)\n",
    "\n",
    "\n",
    "best_accuracy = 0\n",
    "patience = 3\n",
    "early_stop_counter = 0\n",
    "\n",
    "for epoch in range(epochs):\n",
    "    print(f'Epoch {epoch + 1}/{epochs}')\n",
    "    print('-' * 50)\n",
    "\n",
    "    train_acc, train_loss = train_epoch(model, train_data_loader, loss_fn, optimizer, device, scheduler)\n",
    "    print(f'Train loss {train_loss}, accuracy {train_acc}')\n",
    "\n",
    "    val_acc, val_loss = eval_model(model, val_data_loader, loss_fn, device)\n",
    "    print(f'Val loss {val_loss}, accuracy {val_acc}')\n",
    "\n",
    "    if val_acc > best_accuracy:\n",
    "        torch.save(model.state_dict(), 'albert_Compare_model.pth')\n",
    "        best_accuracy = val_acc\n",
    "        early_stop_counter = 0  \n",
    "    else:\n",
    "        early_stop_counter += 1\n",
    "        if early_stop_counter >= patience:\n",
    "            print(\"Early stopping triggered\")\n",
    "            break\n",
    "\n"
   ]
  },
  {
   "cell_type": "code",
   "execution_count": 2,
   "id": "58e732cf-c4a5-4d81-aa37-d1b9a39ea2dc",
   "metadata": {},
   "outputs": [
    {
     "name": "stderr",
     "output_type": "stream",
     "text": [
      "Predicting Simple: 100%|███████████████████████████████████████████████████████████████| 70/70 [00:09<00:00,  7.55it/s]\n"
     ]
    },
    {
     "name": "stdout",
     "output_type": "stream",
     "text": [
      "Simple Accuracy: 0.539366515837104\n"
     ]
    },
    {
     "name": "stderr",
     "output_type": "stream",
     "text": [
      "Predicting: 100%|██████████████████████████████████████████████████████████████████████| 70/70 [00:09<00:00,  7.71it/s]\n",
      "Predicting: 100%|████████████████████████████████████████████████████████████████████| 208/208 [00:27<00:00,  7.64it/s]\n",
      "Predicting: 100%|████████████████████████████████████████████████████████████████████| 208/208 [00:27<00:00,  7.66it/s]\n",
      "Predicting: 100%|████████████████████████████████████████████████████████████████████| 208/208 [00:27<00:00,  7.67it/s]\n"
     ]
    },
    {
     "name": "stdout",
     "output_type": "stream",
     "text": [
      "Simple Accuracy: 0.5394, Precision: 0.5498, Recall: 0.5394, F1: 0.5350\n",
      "T_TTA average - Accuracy: 0.5367, Precision: 0.5528, Recall: 0.5367, F1: 0.5311\n",
      "R_TTA average - Accuracy: 0.5362, Precision: 0.5547, Recall: 0.5362, F1: 0.5301\n",
      "MSTTA average - Accuracy: 0.5425, Precision: 0.5599, Recall: 0.5425, F1: 0.5361\n",
      "T_TTA uncertainty - Accuracy: 0.5357, Precision: 0.5500, Recall: 0.5357, F1: 0.5306\n",
      "R_TTA uncertainty - Accuracy: 0.5398, Precision: 0.5553, Recall: 0.5398, F1: 0.5347\n",
      "MSTTA uncertainty - Accuracy: 0.5443, Precision: 0.5580, Recall: 0.5443, F1: 0.5394\n"
     ]
    }
   ],
   "source": [
    "def predict_probabilities(model, data_loader,device):\n",
    "    model.eval()\n",
    "    sentence_probs = []\n",
    "\n",
    "    with torch.no_grad():\n",
    "        for d in tqdm(data_loader, desc=\"Predicting\"):\n",
    "            input_ids = d['input_ids'].to(device)\n",
    "            attention_mask = d['attention_mask'].to(device)\n",
    "\n",
    "            outputs = model(input_ids=input_ids, attention_mask=attention_mask)\n",
    "            probs = torch.nn.functional.softmax(outputs.logits, dim=-1)\n",
    "            sentence_probs.extend(probs.cpu().numpy())\n",
    "\n",
    "    return np.array(sentence_probs)\n",
    "\n",
    "model.load_state_dict(torch.load('albert_Compare_model.pth'))\n",
    "true_labels = test_df['label'].values\n",
    "\n",
    "simple_preds = []\n",
    "\n",
    "with torch.no_grad():\n",
    "    for d in tqdm(test_data_loader, desc=\"Predicting Simple\"):\n",
    "        input_ids = d['input_ids'].to(device)\n",
    "        attention_mask = d['attention_mask'].to(device)\n",
    "\n",
    "        outputs = model(input_ids=input_ids, attention_mask=attention_mask)\n",
    "        _, preds = torch.max(outputs.logits, dim=1)\n",
    "        simple_preds.extend(preds.cpu().numpy())\n",
    "\n",
    "simple_accuracy = accuracy_score(true_labels, simple_preds)\n",
    "print(f'Simple Accuracy: {simple_accuracy}')\n",
    "\n",
    "\n",
    "def calculate_uncertainty_weights(predictions):\n",
    "    mean_prediction = np.mean(predictions, axis=0)\n",
    "    variance = np.var(predictions, axis=0) + 1e-10\n",
    "    uncertainties = []\n",
    "\n",
    "    for prediction in predictions:\n",
    "        diff_square = (prediction - mean_prediction) ** 2\n",
    "        temp_var = 0.5 * np.log(2 * math.pi * variance)\n",
    "        temp_max = np.maximum(0, temp_var)\n",
    "        final_uncertainty = temp_max + (diff_square / (math.sqrt(3) * variance))\n",
    "        uncertainties.append(final_uncertainty)\n",
    "\n",
    "    weights = 1 / (np.array(uncertainties) + 1e-10)\n",
    "    return weights / weights.sum(axis=0)  \n",
    "\n",
    "\n",
    "def get_grouped_probs(data_loader, model,device):\n",
    "    sentence_probs = predict_probabilities(model, data_loader,device)\n",
    "    return [sentence_probs[i:i+3] for i in range(0, len(sentence_probs), 3)]\n",
    "\n",
    "\n",
    "def compute_weighted_predictions(grouped_probs, weight_type=\"average\"):\n",
    "    weighted_probs = []\n",
    "    for group in grouped_probs:\n",
    "        if weight_type == \"average\":\n",
    "            weights = np.array([1/3, 1/3, 1/3])\n",
    "        elif weight_type == \"uncertainty\":\n",
    "            weights = calculate_uncertainty_weights(group)\n",
    "        else:\n",
    "            raise ValueError(f\"Unknown weight type: {weight_type}\")\n",
    "        weighted_probs.append(np.average(group, axis=0, weights=weights))\n",
    "    return np.array(weighted_probs)\n",
    "\n",
    "test_simple_probs = predict_probabilities(model, test_data_loader,device)\n",
    "T_TTA_grouped_probs = get_grouped_probs(T_TTA_test_data_loader, model,device)\n",
    "R_TTA_grouped_probs = get_grouped_probs(R_TTA_test_data_loader, model,device)\n",
    "MSTTA_grouped_probs = get_grouped_probs(MSTTA_test_data_loader, model,device)\n",
    "\n",
    "simple_preds = np.argmax(test_simple_probs, axis=1)\n",
    "simple_accuracy = accuracy_score(true_labels, simple_preds)\n",
    "simple_precision = precision_score(true_labels, simple_preds, average='weighted')\n",
    "simple_recall = recall_score(true_labels, simple_preds, average='weighted')\n",
    "simple_f1 = f1_score(true_labels, simple_preds, average='weighted')\n",
    "print(f\"Simple Accuracy: {simple_accuracy:.4f}, Precision: {simple_precision:.4f}, Recall: {simple_recall:.4f}, F1: {simple_f1:.4f}\")\n",
    "\n",
    "weight_types = [\"average\",  \"uncertainty\"]\n",
    "results = {}\n",
    "\n",
    "for weight_type in weight_types:\n",
    "    T_TTA_weighted_probs = compute_weighted_predictions(T_TTA_grouped_probs, weight_type=weight_type)\n",
    "    R_TTA_weighted_probs = compute_weighted_predictions(R_TTA_grouped_probs, weight_type=weight_type)\n",
    "    MSTTA_weighted_probs = compute_weighted_predictions(MSTTA_grouped_probs, weight_type=weight_type)\n",
    "    \n",
    "    T_TTA_preds = np.argmax(T_TTA_weighted_probs, axis=1)\n",
    "    R_TTA_preds = np.argmax(R_TTA_weighted_probs, axis=1)\n",
    "    MSTTA_preds = np.argmax(MSTTA_weighted_probs, axis=1)\n",
    "    \n",
    "    true_labels = test_df['label'].values\n",
    "    results[f\"T_TTA {weight_type}\"] = {\n",
    "        \"accuracy\": accuracy_score(true_labels, T_TTA_preds),\n",
    "        \"f1\": f1_score(true_labels, T_TTA_preds, average='weighted'),\n",
    "        \"precision\": precision_score(true_labels, T_TTA_preds, average='weighted'),\n",
    "        \"recall\": recall_score(true_labels, T_TTA_preds, average='weighted')\n",
    "    }\n",
    "    results[f\"R_TTA {weight_type}\"] = {\n",
    "        \"accuracy\": accuracy_score(true_labels, R_TTA_preds),\n",
    "        \"f1\": f1_score(true_labels, R_TTA_preds, average='weighted'),\n",
    "        \"precision\": precision_score(true_labels, R_TTA_preds, average='weighted'),\n",
    "        \"recall\": recall_score(true_labels, R_TTA_preds, average='weighted')\n",
    "    }\n",
    "    results[f\"MSTTA {weight_type}\"] = {\n",
    "        \"accuracy\": accuracy_score(true_labels, MSTTA_preds),\n",
    "        \"f1\": f1_score(true_labels, MSTTA_preds, average='weighted'),\n",
    "        \"precision\": precision_score(true_labels, MSTTA_preds, average='weighted'),\n",
    "        \"recall\": recall_score(true_labels, MSTTA_preds, average='weighted')\n",
    "    }\n",
    "\n",
    "for method, metrics in results.items():\n",
    "    print(f\"{method} - Accuracy: {metrics['accuracy']:.4f}, Precision: {metrics['precision']:.4f}, Recall: {metrics['recall']:.4f}, F1: {metrics['f1']:.4f}\")\n"
   ]
  },
  {
   "cell_type": "code",
   "execution_count": null,
   "id": "e6f4018c-f9f6-44a6-b6e2-05148a90dff2",
   "metadata": {},
   "outputs": [],
   "source": []
  }
 ],
 "metadata": {
  "kernelspec": {
   "display_name": "pytorch",
   "language": "python",
   "name": "pytorch"
  },
  "language_info": {
   "codemirror_mode": {
    "name": "ipython",
    "version": 3
   },
   "file_extension": ".py",
   "mimetype": "text/x-python",
   "name": "python",
   "nbconvert_exporter": "python",
   "pygments_lexer": "ipython3",
   "version": "3.9.19"
  }
 },
 "nbformat": 4,
 "nbformat_minor": 5
}
