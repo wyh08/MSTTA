{
 "cells": [
  {
   "cell_type": "code",
   "execution_count": 1,
   "id": "98409b6e-67f9-4f46-b77c-83758a15e190",
   "metadata": {},
   "outputs": [
    {
     "name": "stderr",
     "output_type": "stream",
     "text": [
      "Some weights of the model checkpoint at roberta-base were not used when initializing RobertaForSequenceClassification: ['lm_head.bias', 'lm_head.decoder.weight', 'roberta.pooler.dense.weight', 'roberta.pooler.dense.bias', 'lm_head.dense.bias', 'lm_head.layer_norm.weight', 'lm_head.layer_norm.bias', 'lm_head.dense.weight']\n",
      "- This IS expected if you are initializing RobertaForSequenceClassification from the checkpoint of a model trained on another task or with another architecture (e.g. initializing a BertForSequenceClassification model from a BertForPreTraining model).\n",
      "- This IS NOT expected if you are initializing RobertaForSequenceClassification from the checkpoint of a model that you expect to be exactly identical (initializing a BertForSequenceClassification model from a BertForSequenceClassification model).\n",
      "Some weights of RobertaForSequenceClassification were not initialized from the model checkpoint at roberta-base and are newly initialized: ['classifier.dense.weight', 'classifier.out_proj.bias', 'classifier.dense.bias', 'classifier.out_proj.weight']\n",
      "You should probably TRAIN this model on a down-stream task to be able to use it for predictions and inference.\n"
     ]
    },
    {
     "name": "stdout",
     "output_type": "stream",
     "text": [
      "True\n"
     ]
    }
   ],
   "source": [
    "import pandas as pd\n",
    "import torch\n",
    "from transformers import RobertaTokenizer, RobertaForSequenceClassification, AdamW, get_linear_schedule_with_warmup\n",
    "from torch.utils.data import Dataset, DataLoader\n",
    "import torch.nn.functional as F\n",
    "import numpy as np\n",
    "from sklearn.metrics import accuracy_score,f1_score, precision_score, recall_score\n",
    "from tqdm import tqdm\n",
    "import math\n",
    "import random\n",
    "\n",
    "torch.manual_seed(42)\n",
    "random.seed(42)\n",
    "np.random.seed(42)\n",
    "\n",
    "train_df = pd.read_csv('train.csv')\n",
    "val_df = pd.read_csv('validation.csv')\n",
    "test_df = pd.read_csv('test.csv')\n",
    "T_TTA_test_df = pd.read_csv('T_TTA_enhanced_test.csv')\n",
    "R_TTA_test_df = pd.read_csv('R_TTA_enhanced_test.csv')\n",
    "MSTTA_test_df = pd.read_csv('MSTTA_enhanced_test.csv')\n",
    "\n",
    "class SentimentDataset(Dataset):\n",
    "    def __init__(self, dataframe, tokenizer, max_len):\n",
    "        self.dataframe = dataframe\n",
    "        self.tokenizer = tokenizer\n",
    "        self.max_len = max_len\n",
    "\n",
    "    def __len__(self):\n",
    "        return len(self.dataframe)\n",
    "\n",
    "    def __getitem__(self, index):\n",
    "        sentence = self.dataframe.iloc[index]['sentence']\n",
    "        label = self.dataframe.iloc[index]['label']\n",
    "        encoding = self.tokenizer.encode_plus(\n",
    "            sentence,\n",
    "            add_special_tokens=True,\n",
    "            max_length=self.max_len,\n",
    "            return_token_type_ids=False,\n",
    "            padding='max_length',\n",
    "            return_attention_mask=True,\n",
    "            return_tensors='pt',\n",
    "            truncation=True,\n",
    "        )\n",
    "        return {\n",
    "            'sentence_text': sentence,\n",
    "            'input_ids': encoding['input_ids'].flatten(),\n",
    "            'attention_mask': encoding['attention_mask'].flatten(),\n",
    "            'label': torch.tensor(label, dtype=torch.long)\n",
    "        }\n",
    "\n",
    "def create_data_loader(df, tokenizer, max_len, batch_size,shuffle):\n",
    "    ds = SentimentDataset(\n",
    "        dataframe=df,\n",
    "        tokenizer=tokenizer,\n",
    "        max_len=max_len\n",
    "    )\n",
    "    return DataLoader(\n",
    "        ds,\n",
    "        batch_size=batch_size,\n",
    "        num_workers=0,\n",
    "        pin_memory=True,\n",
    "        shuffle=shuffle\n",
    "    )\n",
    "\n",
    "PRE_TRAINED_MODEL_NAME = 'roberta-base'\n",
    "tokenizer = RobertaTokenizer.from_pretrained(PRE_TRAINED_MODEL_NAME)\n",
    "model = RobertaForSequenceClassification.from_pretrained(PRE_TRAINED_MODEL_NAME, num_labels=5)\n",
    "\n",
    "device = torch.device(\"cuda\" if torch.cuda.is_available() else \"cpu\")\n",
    "print(torch.cuda.is_available())\n",
    "model = model.to(device)\n",
    "\n",
    "max_len = 128\n",
    "batch_size = 32\n",
    "\n",
    "train_data_loader = create_data_loader(train_df, tokenizer, max_len, batch_size,shuffle=True)\n",
    "val_data_loader = create_data_loader(val_df, tokenizer, max_len, batch_size,shuffle=False)\n",
    "test_data_loader = create_data_loader(test_df, tokenizer, max_len, batch_size,shuffle=False)\n",
    "T_TTA_test_data_loader = create_data_loader(T_TTA_test_df, tokenizer, max_len, batch_size,shuffle=False)\n",
    "R_TTA_test_data_loader = create_data_loader(R_TTA_test_df, tokenizer, max_len, batch_size,shuffle=False)\n",
    "MSTTA_test_data_loader= create_data_loader(MSTTA_test_df, tokenizer, max_len, batch_size,shuffle=False)\n"
   ]
  },
  {
   "cell_type": "code",
   "execution_count": 3,
   "id": "d902199d-6b73-44f8-8bd5-c0a03165cca2",
   "metadata": {},
   "outputs": [
    {
     "name": "stdout",
     "output_type": "stream",
     "text": [
      "roberta.embeddings.word_embeddings.weight: False\n",
      "roberta.embeddings.position_embeddings.weight: False\n",
      "roberta.embeddings.token_type_embeddings.weight: False\n",
      "roberta.embeddings.LayerNorm.weight: False\n",
      "roberta.embeddings.LayerNorm.bias: False\n",
      "roberta.encoder.layer.0.attention.self.query.weight: False\n",
      "roberta.encoder.layer.0.attention.self.query.bias: False\n",
      "roberta.encoder.layer.0.attention.self.key.weight: False\n",
      "roberta.encoder.layer.0.attention.self.key.bias: False\n",
      "roberta.encoder.layer.0.attention.self.value.weight: False\n",
      "roberta.encoder.layer.0.attention.self.value.bias: False\n",
      "roberta.encoder.layer.0.attention.output.dense.weight: False\n",
      "roberta.encoder.layer.0.attention.output.dense.bias: False\n",
      "roberta.encoder.layer.0.attention.output.LayerNorm.weight: False\n",
      "roberta.encoder.layer.0.attention.output.LayerNorm.bias: False\n",
      "roberta.encoder.layer.0.intermediate.dense.weight: False\n",
      "roberta.encoder.layer.0.intermediate.dense.bias: False\n",
      "roberta.encoder.layer.0.output.dense.weight: False\n",
      "roberta.encoder.layer.0.output.dense.bias: False\n",
      "roberta.encoder.layer.0.output.LayerNorm.weight: False\n",
      "roberta.encoder.layer.0.output.LayerNorm.bias: False\n",
      "roberta.encoder.layer.1.attention.self.query.weight: False\n",
      "roberta.encoder.layer.1.attention.self.query.bias: False\n",
      "roberta.encoder.layer.1.attention.self.key.weight: False\n",
      "roberta.encoder.layer.1.attention.self.key.bias: False\n",
      "roberta.encoder.layer.1.attention.self.value.weight: False\n",
      "roberta.encoder.layer.1.attention.self.value.bias: False\n",
      "roberta.encoder.layer.1.attention.output.dense.weight: False\n",
      "roberta.encoder.layer.1.attention.output.dense.bias: False\n",
      "roberta.encoder.layer.1.attention.output.LayerNorm.weight: False\n",
      "roberta.encoder.layer.1.attention.output.LayerNorm.bias: False\n",
      "roberta.encoder.layer.1.intermediate.dense.weight: False\n",
      "roberta.encoder.layer.1.intermediate.dense.bias: False\n",
      "roberta.encoder.layer.1.output.dense.weight: False\n",
      "roberta.encoder.layer.1.output.dense.bias: False\n",
      "roberta.encoder.layer.1.output.LayerNorm.weight: False\n",
      "roberta.encoder.layer.1.output.LayerNorm.bias: False\n",
      "roberta.encoder.layer.2.attention.self.query.weight: False\n",
      "roberta.encoder.layer.2.attention.self.query.bias: False\n",
      "roberta.encoder.layer.2.attention.self.key.weight: False\n",
      "roberta.encoder.layer.2.attention.self.key.bias: False\n",
      "roberta.encoder.layer.2.attention.self.value.weight: False\n",
      "roberta.encoder.layer.2.attention.self.value.bias: False\n",
      "roberta.encoder.layer.2.attention.output.dense.weight: False\n",
      "roberta.encoder.layer.2.attention.output.dense.bias: False\n",
      "roberta.encoder.layer.2.attention.output.LayerNorm.weight: False\n",
      "roberta.encoder.layer.2.attention.output.LayerNorm.bias: False\n",
      "roberta.encoder.layer.2.intermediate.dense.weight: False\n",
      "roberta.encoder.layer.2.intermediate.dense.bias: False\n",
      "roberta.encoder.layer.2.output.dense.weight: False\n",
      "roberta.encoder.layer.2.output.dense.bias: False\n",
      "roberta.encoder.layer.2.output.LayerNorm.weight: False\n",
      "roberta.encoder.layer.2.output.LayerNorm.bias: False\n",
      "roberta.encoder.layer.3.attention.self.query.weight: False\n",
      "roberta.encoder.layer.3.attention.self.query.bias: False\n",
      "roberta.encoder.layer.3.attention.self.key.weight: False\n",
      "roberta.encoder.layer.3.attention.self.key.bias: False\n",
      "roberta.encoder.layer.3.attention.self.value.weight: False\n",
      "roberta.encoder.layer.3.attention.self.value.bias: False\n",
      "roberta.encoder.layer.3.attention.output.dense.weight: False\n",
      "roberta.encoder.layer.3.attention.output.dense.bias: False\n",
      "roberta.encoder.layer.3.attention.output.LayerNorm.weight: False\n",
      "roberta.encoder.layer.3.attention.output.LayerNorm.bias: False\n",
      "roberta.encoder.layer.3.intermediate.dense.weight: False\n",
      "roberta.encoder.layer.3.intermediate.dense.bias: False\n",
      "roberta.encoder.layer.3.output.dense.weight: False\n",
      "roberta.encoder.layer.3.output.dense.bias: False\n",
      "roberta.encoder.layer.3.output.LayerNorm.weight: False\n",
      "roberta.encoder.layer.3.output.LayerNorm.bias: False\n",
      "roberta.encoder.layer.4.attention.self.query.weight: False\n",
      "roberta.encoder.layer.4.attention.self.query.bias: False\n",
      "roberta.encoder.layer.4.attention.self.key.weight: False\n",
      "roberta.encoder.layer.4.attention.self.key.bias: False\n",
      "roberta.encoder.layer.4.attention.self.value.weight: False\n",
      "roberta.encoder.layer.4.attention.self.value.bias: False\n",
      "roberta.encoder.layer.4.attention.output.dense.weight: False\n",
      "roberta.encoder.layer.4.attention.output.dense.bias: False\n",
      "roberta.encoder.layer.4.attention.output.LayerNorm.weight: False\n",
      "roberta.encoder.layer.4.attention.output.LayerNorm.bias: False\n",
      "roberta.encoder.layer.4.intermediate.dense.weight: False\n",
      "roberta.encoder.layer.4.intermediate.dense.bias: False\n",
      "roberta.encoder.layer.4.output.dense.weight: False\n",
      "roberta.encoder.layer.4.output.dense.bias: False\n",
      "roberta.encoder.layer.4.output.LayerNorm.weight: False\n",
      "roberta.encoder.layer.4.output.LayerNorm.bias: False\n",
      "roberta.encoder.layer.5.attention.self.query.weight: False\n",
      "roberta.encoder.layer.5.attention.self.query.bias: False\n",
      "roberta.encoder.layer.5.attention.self.key.weight: False\n",
      "roberta.encoder.layer.5.attention.self.key.bias: False\n",
      "roberta.encoder.layer.5.attention.self.value.weight: False\n",
      "roberta.encoder.layer.5.attention.self.value.bias: False\n",
      "roberta.encoder.layer.5.attention.output.dense.weight: False\n",
      "roberta.encoder.layer.5.attention.output.dense.bias: False\n",
      "roberta.encoder.layer.5.attention.output.LayerNorm.weight: False\n",
      "roberta.encoder.layer.5.attention.output.LayerNorm.bias: False\n",
      "roberta.encoder.layer.5.intermediate.dense.weight: False\n",
      "roberta.encoder.layer.5.intermediate.dense.bias: False\n",
      "roberta.encoder.layer.5.output.dense.weight: False\n",
      "roberta.encoder.layer.5.output.dense.bias: False\n",
      "roberta.encoder.layer.5.output.LayerNorm.weight: False\n",
      "roberta.encoder.layer.5.output.LayerNorm.bias: False\n",
      "roberta.encoder.layer.6.attention.self.query.weight: False\n",
      "roberta.encoder.layer.6.attention.self.query.bias: False\n",
      "roberta.encoder.layer.6.attention.self.key.weight: False\n",
      "roberta.encoder.layer.6.attention.self.key.bias: False\n",
      "roberta.encoder.layer.6.attention.self.value.weight: False\n",
      "roberta.encoder.layer.6.attention.self.value.bias: False\n",
      "roberta.encoder.layer.6.attention.output.dense.weight: False\n",
      "roberta.encoder.layer.6.attention.output.dense.bias: False\n",
      "roberta.encoder.layer.6.attention.output.LayerNorm.weight: False\n",
      "roberta.encoder.layer.6.attention.output.LayerNorm.bias: False\n",
      "roberta.encoder.layer.6.intermediate.dense.weight: False\n",
      "roberta.encoder.layer.6.intermediate.dense.bias: False\n",
      "roberta.encoder.layer.6.output.dense.weight: False\n",
      "roberta.encoder.layer.6.output.dense.bias: False\n",
      "roberta.encoder.layer.6.output.LayerNorm.weight: False\n",
      "roberta.encoder.layer.6.output.LayerNorm.bias: False\n",
      "roberta.encoder.layer.7.attention.self.query.weight: False\n",
      "roberta.encoder.layer.7.attention.self.query.bias: False\n",
      "roberta.encoder.layer.7.attention.self.key.weight: False\n",
      "roberta.encoder.layer.7.attention.self.key.bias: False\n",
      "roberta.encoder.layer.7.attention.self.value.weight: False\n",
      "roberta.encoder.layer.7.attention.self.value.bias: False\n",
      "roberta.encoder.layer.7.attention.output.dense.weight: False\n",
      "roberta.encoder.layer.7.attention.output.dense.bias: False\n",
      "roberta.encoder.layer.7.attention.output.LayerNorm.weight: False\n",
      "roberta.encoder.layer.7.attention.output.LayerNorm.bias: False\n",
      "roberta.encoder.layer.7.intermediate.dense.weight: False\n",
      "roberta.encoder.layer.7.intermediate.dense.bias: False\n",
      "roberta.encoder.layer.7.output.dense.weight: False\n",
      "roberta.encoder.layer.7.output.dense.bias: False\n",
      "roberta.encoder.layer.7.output.LayerNorm.weight: False\n",
      "roberta.encoder.layer.7.output.LayerNorm.bias: False\n",
      "roberta.encoder.layer.8.attention.self.query.weight: False\n",
      "roberta.encoder.layer.8.attention.self.query.bias: False\n",
      "roberta.encoder.layer.8.attention.self.key.weight: False\n",
      "roberta.encoder.layer.8.attention.self.key.bias: False\n",
      "roberta.encoder.layer.8.attention.self.value.weight: False\n",
      "roberta.encoder.layer.8.attention.self.value.bias: False\n",
      "roberta.encoder.layer.8.attention.output.dense.weight: False\n",
      "roberta.encoder.layer.8.attention.output.dense.bias: False\n",
      "roberta.encoder.layer.8.attention.output.LayerNorm.weight: False\n",
      "roberta.encoder.layer.8.attention.output.LayerNorm.bias: False\n",
      "roberta.encoder.layer.8.intermediate.dense.weight: False\n",
      "roberta.encoder.layer.8.intermediate.dense.bias: False\n",
      "roberta.encoder.layer.8.output.dense.weight: False\n",
      "roberta.encoder.layer.8.output.dense.bias: False\n",
      "roberta.encoder.layer.8.output.LayerNorm.weight: False\n",
      "roberta.encoder.layer.8.output.LayerNorm.bias: False\n",
      "roberta.encoder.layer.9.attention.self.query.weight: False\n",
      "roberta.encoder.layer.9.attention.self.query.bias: False\n",
      "roberta.encoder.layer.9.attention.self.key.weight: False\n",
      "roberta.encoder.layer.9.attention.self.key.bias: False\n",
      "roberta.encoder.layer.9.attention.self.value.weight: False\n",
      "roberta.encoder.layer.9.attention.self.value.bias: False\n",
      "roberta.encoder.layer.9.attention.output.dense.weight: False\n",
      "roberta.encoder.layer.9.attention.output.dense.bias: False\n",
      "roberta.encoder.layer.9.attention.output.LayerNorm.weight: False\n",
      "roberta.encoder.layer.9.attention.output.LayerNorm.bias: False\n",
      "roberta.encoder.layer.9.intermediate.dense.weight: False\n",
      "roberta.encoder.layer.9.intermediate.dense.bias: False\n",
      "roberta.encoder.layer.9.output.dense.weight: False\n",
      "roberta.encoder.layer.9.output.dense.bias: False\n",
      "roberta.encoder.layer.9.output.LayerNorm.weight: False\n",
      "roberta.encoder.layer.9.output.LayerNorm.bias: False\n",
      "roberta.encoder.layer.10.attention.self.query.weight: True\n",
      "roberta.encoder.layer.10.attention.self.query.bias: True\n",
      "roberta.encoder.layer.10.attention.self.key.weight: True\n",
      "roberta.encoder.layer.10.attention.self.key.bias: True\n",
      "roberta.encoder.layer.10.attention.self.value.weight: True\n",
      "roberta.encoder.layer.10.attention.self.value.bias: True\n",
      "roberta.encoder.layer.10.attention.output.dense.weight: True\n",
      "roberta.encoder.layer.10.attention.output.dense.bias: True\n",
      "roberta.encoder.layer.10.attention.output.LayerNorm.weight: True\n",
      "roberta.encoder.layer.10.attention.output.LayerNorm.bias: True\n",
      "roberta.encoder.layer.10.intermediate.dense.weight: True\n",
      "roberta.encoder.layer.10.intermediate.dense.bias: True\n",
      "roberta.encoder.layer.10.output.dense.weight: True\n",
      "roberta.encoder.layer.10.output.dense.bias: True\n",
      "roberta.encoder.layer.10.output.LayerNorm.weight: True\n",
      "roberta.encoder.layer.10.output.LayerNorm.bias: True\n",
      "roberta.encoder.layer.11.attention.self.query.weight: True\n",
      "roberta.encoder.layer.11.attention.self.query.bias: True\n",
      "roberta.encoder.layer.11.attention.self.key.weight: True\n",
      "roberta.encoder.layer.11.attention.self.key.bias: True\n",
      "roberta.encoder.layer.11.attention.self.value.weight: True\n",
      "roberta.encoder.layer.11.attention.self.value.bias: True\n",
      "roberta.encoder.layer.11.attention.output.dense.weight: True\n",
      "roberta.encoder.layer.11.attention.output.dense.bias: True\n",
      "roberta.encoder.layer.11.attention.output.LayerNorm.weight: True\n",
      "roberta.encoder.layer.11.attention.output.LayerNorm.bias: True\n",
      "roberta.encoder.layer.11.intermediate.dense.weight: True\n",
      "roberta.encoder.layer.11.intermediate.dense.bias: True\n",
      "roberta.encoder.layer.11.output.dense.weight: True\n",
      "roberta.encoder.layer.11.output.dense.bias: True\n",
      "roberta.encoder.layer.11.output.LayerNorm.weight: True\n",
      "roberta.encoder.layer.11.output.LayerNorm.bias: True\n",
      "classifier.dense.weight: True\n",
      "classifier.dense.bias: True\n",
      "classifier.out_proj.weight: True\n",
      "classifier.out_proj.bias: True\n",
      "Epoch 1/10\n",
      "--------------------------------------------------\n"
     ]
    },
    {
     "name": "stderr",
     "output_type": "stream",
     "text": [
      "Training: 100%|██████████████████████████████████████████████████████████████████████| 267/267 [00:37<00:00,  7.15it/s]\n"
     ]
    },
    {
     "name": "stdout",
     "output_type": "stream",
     "text": [
      "Train loss 1.3105152662327226 accuracy 0.41853932584269665\n"
     ]
    },
    {
     "name": "stderr",
     "output_type": "stream",
     "text": [
      "Evaluating: 100%|██████████████████████████████████████████████████████████████████████| 35/35 [00:03<00:00, 10.00it/s]\n"
     ]
    },
    {
     "name": "stdout",
     "output_type": "stream",
     "text": [
      "Val   loss 1.1329335383006505 accuracy 0.5040871934604905\n",
      "Epoch 2/10\n",
      "--------------------------------------------------\n"
     ]
    },
    {
     "name": "stderr",
     "output_type": "stream",
     "text": [
      "Training: 100%|██████████████████████████████████████████████████████████████████████| 267/267 [00:36<00:00,  7.33it/s]\n"
     ]
    },
    {
     "name": "stdout",
     "output_type": "stream",
     "text": [
      "Train loss 1.0843020416377636 accuracy 0.5176732209737828\n"
     ]
    },
    {
     "name": "stderr",
     "output_type": "stream",
     "text": [
      "Evaluating: 100%|██████████████████████████████████████████████████████████████████████| 35/35 [00:03<00:00, 10.02it/s]\n"
     ]
    },
    {
     "name": "stdout",
     "output_type": "stream",
     "text": [
      "Val   loss 1.1271951368876867 accuracy 0.5131698455949137\n",
      "Epoch 3/10\n",
      "--------------------------------------------------\n"
     ]
    },
    {
     "name": "stderr",
     "output_type": "stream",
     "text": [
      "Training: 100%|██████████████████████████████████████████████████████████████████████| 267/267 [00:36<00:00,  7.31it/s]\n"
     ]
    },
    {
     "name": "stdout",
     "output_type": "stream",
     "text": [
      "Train loss 1.0485899486345298 accuracy 0.5387406367041199\n"
     ]
    },
    {
     "name": "stderr",
     "output_type": "stream",
     "text": [
      "Evaluating: 100%|██████████████████████████████████████████████████████████████████████| 35/35 [00:03<00:00,  9.81it/s]\n"
     ]
    },
    {
     "name": "stdout",
     "output_type": "stream",
     "text": [
      "Val   loss 1.143771195411682 accuracy 0.514078110808356\n",
      "Epoch 4/10\n",
      "--------------------------------------------------\n"
     ]
    },
    {
     "name": "stderr",
     "output_type": "stream",
     "text": [
      "Training: 100%|██████████████████████████████████████████████████████████████████████| 267/267 [00:36<00:00,  7.28it/s]\n"
     ]
    },
    {
     "name": "stdout",
     "output_type": "stream",
     "text": [
      "Train loss 1.0277288216776617 accuracy 0.5489232209737828\n"
     ]
    },
    {
     "name": "stderr",
     "output_type": "stream",
     "text": [
      "Evaluating: 100%|██████████████████████████████████████████████████████████████████████| 35/35 [00:03<00:00,  9.81it/s]\n"
     ]
    },
    {
     "name": "stdout",
     "output_type": "stream",
     "text": [
      "Val   loss 1.121473114831107 accuracy 0.5249772933696639\n",
      "Epoch 5/10\n",
      "--------------------------------------------------\n"
     ]
    },
    {
     "name": "stderr",
     "output_type": "stream",
     "text": [
      "Training: 100%|██████████████████████████████████████████████████████████████████████| 267/267 [00:36<00:00,  7.27it/s]\n"
     ]
    },
    {
     "name": "stdout",
     "output_type": "stream",
     "text": [
      "Train loss 1.0099981250834376 accuracy 0.5630852059925093\n"
     ]
    },
    {
     "name": "stderr",
     "output_type": "stream",
     "text": [
      "Evaluating: 100%|██████████████████████████████████████████████████████████████████████| 35/35 [00:03<00:00,  9.94it/s]\n"
     ]
    },
    {
     "name": "stdout",
     "output_type": "stream",
     "text": [
      "Val   loss 1.1036433117730278 accuracy 0.5358764759309719\n",
      "Epoch 6/10\n",
      "--------------------------------------------------\n"
     ]
    },
    {
     "name": "stderr",
     "output_type": "stream",
     "text": [
      "Training: 100%|██████████████████████████████████████████████████████████████████████| 267/267 [00:36<00:00,  7.27it/s]\n"
     ]
    },
    {
     "name": "stdout",
     "output_type": "stream",
     "text": [
      "Train loss 1.0014203001050914 accuracy 0.5647237827715356\n"
     ]
    },
    {
     "name": "stderr",
     "output_type": "stream",
     "text": [
      "Evaluating: 100%|██████████████████████████████████████████████████████████████████████| 35/35 [00:03<00:00,  9.93it/s]\n"
     ]
    },
    {
     "name": "stdout",
     "output_type": "stream",
     "text": [
      "Val   loss 1.1083842056138176 accuracy 0.5304268846503178\n",
      "Epoch 7/10\n",
      "--------------------------------------------------\n"
     ]
    },
    {
     "name": "stderr",
     "output_type": "stream",
     "text": [
      "Training: 100%|██████████████████████████████████████████████████████████████████████| 267/267 [00:36<00:00,  7.28it/s]\n"
     ]
    },
    {
     "name": "stdout",
     "output_type": "stream",
     "text": [
      "Train loss 0.9835485974501135 accuracy 0.5677668539325843\n"
     ]
    },
    {
     "name": "stderr",
     "output_type": "stream",
     "text": [
      "Evaluating: 100%|██████████████████████████████████████████████████████████████████████| 35/35 [00:03<00:00, 10.07it/s]\n"
     ]
    },
    {
     "name": "stdout",
     "output_type": "stream",
     "text": [
      "Val   loss 1.110522164617266 accuracy 0.5340599455040872\n",
      "Epoch 8/10\n",
      "--------------------------------------------------\n"
     ]
    },
    {
     "name": "stderr",
     "output_type": "stream",
     "text": [
      "Training: 100%|██████████████████████████████████████████████████████████████████████| 267/267 [00:36<00:00,  7.24it/s]\n"
     ]
    },
    {
     "name": "stdout",
     "output_type": "stream",
     "text": [
      "Train loss 0.9836503649025821 accuracy 0.5729166666666666\n"
     ]
    },
    {
     "name": "stderr",
     "output_type": "stream",
     "text": [
      "Evaluating: 100%|██████████████████████████████████████████████████████████████████████| 35/35 [00:03<00:00, 10.28it/s]"
     ]
    },
    {
     "name": "stdout",
     "output_type": "stream",
     "text": [
      "Val   loss 1.1175524251801627 accuracy 0.5340599455040872\n",
      "Early stopping triggered\n"
     ]
    },
    {
     "name": "stderr",
     "output_type": "stream",
     "text": [
      "\n"
     ]
    }
   ],
   "source": [
    "for param in model.roberta.parameters():\n",
    "    param.requires_grad = False\n",
    "\n",
    "for param in model.roberta.encoder.layer[-2:].parameters():\n",
    "    param.requires_grad = True\n",
    "\n",
    "for param in model.classifier.parameters():\n",
    "    param.requires_grad = True\n",
    "\n",
    "for name, param in model.named_parameters():\n",
    "    print(f\"{name}: {param.requires_grad}\")\n",
    "optimizer = AdamW(filter(lambda p: p.requires_grad, model.parameters()), lr=1e-5, correct_bias=False)\n",
    "total_steps = len(train_data_loader) * 10  \n",
    "\n",
    "scheduler = get_linear_schedule_with_warmup(\n",
    "    optimizer,\n",
    "    num_warmup_steps=0,\n",
    "    num_training_steps=total_steps\n",
    ")\n",
    "\n",
    "loss_fn = torch.nn.CrossEntropyLoss().to(device)\n",
    "\n",
    "def train_epoch(model, data_loader, loss_fn, optimizer, device, scheduler, n_examples):\n",
    "    model = model.train()\n",
    "    losses = []\n",
    "    correct_predictions = 0\n",
    "\n",
    "    for d in tqdm(data_loader, desc=\"Training\"):\n",
    "        input_ids = d['input_ids'].to(device)\n",
    "        attention_mask = d['attention_mask'].to(device)\n",
    "        labels = d['label'].to(device)\n",
    "\n",
    "        outputs = model(\n",
    "            input_ids=input_ids,\n",
    "            attention_mask=attention_mask\n",
    "        )\n",
    "\n",
    "        _, preds = torch.max(outputs.logits, dim=1)\n",
    "        loss = loss_fn(outputs.logits, labels)\n",
    "\n",
    "        correct_predictions += torch.sum(preds == labels)\n",
    "        losses.append(loss.item())\n",
    "\n",
    "        loss.backward()\n",
    "        torch.nn.utils.clip_grad_norm_(model.parameters(), max_norm=1.0)\n",
    "        optimizer.step()\n",
    "        scheduler.step()\n",
    "        optimizer.zero_grad()\n",
    "\n",
    "    return correct_predictions.double() / n_examples, np.mean(losses)\n",
    "\n",
    "def eval_model(model, data_loader, loss_fn, device, n_examples):\n",
    "    model = model.eval()\n",
    "    losses = []\n",
    "    correct_predictions = 0\n",
    "\n",
    "    with torch.no_grad():\n",
    "        for d in tqdm(data_loader, desc=\"Evaluating\"):\n",
    "            input_ids = d['input_ids'].to(device)\n",
    "            attention_mask = d['attention_mask'].to(device)\n",
    "            labels = d['label'].to(device)\n",
    "\n",
    "            outputs = model(\n",
    "                input_ids=input_ids,\n",
    "                attention_mask=attention_mask\n",
    "            )\n",
    "\n",
    "            _, preds = torch.max(outputs.logits, dim=1)\n",
    "            loss = loss_fn(outputs.logits, labels)\n",
    "\n",
    "            correct_predictions += torch.sum(preds == labels)\n",
    "            losses.append(loss.item())\n",
    "\n",
    "    return correct_predictions.double() / n_examples, np.mean(losses)\n",
    "\n",
    "best_loss = np.inf\n",
    "patience = 3 \n",
    "counter = 0  \n",
    "\n",
    "for epoch in range(10):\n",
    "    print(f'Epoch {epoch + 1}/10')\n",
    "    print('-' * 50)\n",
    "\n",
    "    train_acc, train_loss = train_epoch(\n",
    "        model,\n",
    "        train_data_loader,\n",
    "        loss_fn,\n",
    "        optimizer,\n",
    "        device,\n",
    "        scheduler,\n",
    "        len(train_df)\n",
    "    )\n",
    "\n",
    "    print(f'Train loss {train_loss} accuracy {train_acc}')\n",
    "\n",
    "    val_acc, val_loss = eval_model(\n",
    "        model,\n",
    "        val_data_loader,\n",
    "        loss_fn,\n",
    "        device,\n",
    "        len(val_df)\n",
    "    )\n",
    "\n",
    "    print(f'Val   loss {val_loss} accuracy {val_acc}')\n",
    "\n",
    "    if val_loss < best_loss:\n",
    "        torch.save(model.state_dict(), 'roberta_Compare_model.pth')\n",
    "        best_loss = val_loss\n",
    "        counter = 0  \n",
    "    else:\n",
    "        counter += 1  \n",
    "\n",
    "    if counter >= patience:\n",
    "        print(\"Early stopping triggered\")\n",
    "        break\n"
   ]
  },
  {
   "cell_type": "code",
   "execution_count": 3,
   "id": "63b3e4b3-9f6a-4ee6-b117-70c51fd7b5da",
   "metadata": {},
   "outputs": [
    {
     "name": "stderr",
     "output_type": "stream",
     "text": [
      "Predicting Simple: 100%|███████████████████████████████████████████████████████████████| 70/70 [00:06<00:00, 10.17it/s]\n"
     ]
    },
    {
     "name": "stdout",
     "output_type": "stream",
     "text": [
      "Simple Accuracy: 0.5484162895927602\n"
     ]
    },
    {
     "name": "stderr",
     "output_type": "stream",
     "text": [
      "Predicting: 100%|██████████████████████████████████████████████████████████████████████| 70/70 [00:06<00:00, 10.38it/s]\n",
      "Predicting: 100%|████████████████████████████████████████████████████████████████████| 208/208 [00:20<00:00, 10.23it/s]\n",
      "Predicting: 100%|████████████████████████████████████████████████████████████████████| 208/208 [00:21<00:00,  9.70it/s]\n",
      "Predicting: 100%|████████████████████████████████████████████████████████████████████| 208/208 [00:20<00:00, 10.30it/s]\n"
     ]
    },
    {
     "name": "stdout",
     "output_type": "stream",
     "text": [
      "Simple Accuracy: 0.5484, Precision: 0.5532, Recall: 0.5484, F1: 0.5403\n",
      "T_TTA average - Accuracy: 0.5466, Precision: 0.5538, Recall: 0.5466, F1: 0.5386\n",
      "R_TTA average - Accuracy: 0.5489, Precision: 0.5576, Recall: 0.5489, F1: 0.5391\n",
      "MSTTA average - Accuracy: 0.5507, Precision: 0.5583, Recall: 0.5507, F1: 0.5423\n",
      "T_TTA uncertainty - Accuracy: 0.5471, Precision: 0.5537, Recall: 0.5471, F1: 0.5394\n",
      "R_TTA uncertainty - Accuracy: 0.5507, Precision: 0.5577, Recall: 0.5507, F1: 0.5418\n",
      "MSTTA uncertainty - Accuracy: 0.5557, Precision: 0.5627, Recall: 0.5557, F1: 0.5474\n"
     ]
    }
   ],
   "source": [
    "def predict_probabilities(model, data_loader,device):\n",
    "    model.eval()\n",
    "    sentence_probs = []\n",
    "\n",
    "    with torch.no_grad():\n",
    "        for d in tqdm(data_loader, desc=\"Predicting\"):\n",
    "            input_ids = d['input_ids'].to(device)\n",
    "            attention_mask = d['attention_mask'].to(device)\n",
    "\n",
    "            outputs = model(input_ids=input_ids, attention_mask=attention_mask)\n",
    "            probs = torch.nn.functional.softmax(outputs.logits, dim=-1)\n",
    "            sentence_probs.extend(probs.cpu().numpy())\n",
    "\n",
    "    return np.array(sentence_probs)\n",
    "\n",
    "model.load_state_dict(torch.load('roberta_Compare_model.pth'))\n",
    "true_labels = test_df['label'].values\n",
    "\n",
    "simple_preds = []\n",
    "\n",
    "with torch.no_grad():\n",
    "    for d in tqdm(test_data_loader, desc=\"Predicting Simple\"):\n",
    "        input_ids = d['input_ids'].to(device)\n",
    "        attention_mask = d['attention_mask'].to(device)\n",
    "\n",
    "        outputs = model(input_ids=input_ids, attention_mask=attention_mask)\n",
    "        _, preds = torch.max(outputs.logits, dim=1)\n",
    "        simple_preds.extend(preds.cpu().numpy())\n",
    "\n",
    "simple_accuracy = accuracy_score(true_labels, simple_preds)\n",
    "print(f'Simple Accuracy: {simple_accuracy}')\n",
    "\n",
    "def calculate_uncertainty_weights(predictions):\n",
    "    mean_prediction = np.mean(predictions, axis=0)\n",
    "    variance = np.var(predictions, axis=0) + 1e-10\n",
    "    uncertainties = []\n",
    "\n",
    "    for prediction in predictions:\n",
    "        diff_square = (prediction - mean_prediction) ** 2\n",
    "        temp_var = 0.5 * np.log(2 * math.pi * variance)\n",
    "        temp_max = np.maximum(0, temp_var)\n",
    "        final_uncertainty = temp_max + (diff_square / (math.sqrt(3) * variance))\n",
    "        uncertainties.append(final_uncertainty)\n",
    "\n",
    "    weights = 1 / (np.array(uncertainties) + 1e-10)\n",
    "    return weights / weights.sum(axis=0)  \n",
    "\n",
    "def get_grouped_probs(data_loader, model,device):\n",
    "    sentence_probs = predict_probabilities(model, data_loader,device)\n",
    "    return [sentence_probs[i:i+3] for i in range(0, len(sentence_probs), 3)]\n",
    "\n",
    "def compute_weighted_predictions(grouped_probs, weight_type=\"average\"):\n",
    "    weighted_probs = []\n",
    "    for group in grouped_probs:\n",
    "        if weight_type == \"average\":\n",
    "            weights = np.array([1/3, 1/3, 1/3])\n",
    "        elif weight_type == \"uncertainty\":\n",
    "            weights = calculate_uncertainty_weights(group)\n",
    "        else:\n",
    "            raise ValueError(f\"Unknown weight type: {weight_type}\")\n",
    "        weighted_probs.append(np.average(group, axis=0, weights=weights))\n",
    "    return np.array(weighted_probs)\n",
    "\n",
    "test_simple_probs = predict_probabilities(model, test_data_loader,device)\n",
    "T_TTA_grouped_probs = get_grouped_probs(T_TTA_test_data_loader, model,device)\n",
    "R_TTA_grouped_probs = get_grouped_probs(R_TTA_test_data_loader, model,device)\n",
    "MSTTA_grouped_probs = get_grouped_probs(MSTTA_test_data_loader, model,device)\n",
    "\n",
    "simple_preds = np.argmax(test_simple_probs, axis=1)\n",
    "simple_accuracy = accuracy_score(true_labels, simple_preds)\n",
    "simple_precision = precision_score(true_labels, simple_preds, average='weighted')\n",
    "simple_recall = recall_score(true_labels, simple_preds, average='weighted')\n",
    "simple_f1 = f1_score(true_labels, simple_preds, average='weighted')\n",
    "print(f\"Simple Accuracy: {simple_accuracy:.4f}, Precision: {simple_precision:.4f}, Recall: {simple_recall:.4f}, F1: {simple_f1:.4f}\")\n",
    "\n",
    "weight_types = [\"average\",  \"uncertainty\"]\n",
    "results = {}\n",
    "\n",
    "for weight_type in weight_types:\n",
    "    T_TTA_weighted_probs = compute_weighted_predictions(T_TTA_grouped_probs, weight_type=weight_type)\n",
    "    R_TTA_weighted_probs = compute_weighted_predictions(R_TTA_grouped_probs, weight_type=weight_type)\n",
    "    MSTTA_weighted_probs = compute_weighted_predictions(MSTTA_grouped_probs, weight_type=weight_type)\n",
    "\n",
    "    T_TTA_preds = np.argmax(T_TTA_weighted_probs, axis=1)\n",
    "    R_TTA_preds = np.argmax(R_TTA_weighted_probs, axis=1)\n",
    "    MSTTA_preds = np.argmax(MSTTA_weighted_probs, axis=1)\n",
    "    \n",
    "\n",
    "    true_labels = test_df['label'].values\n",
    "    results[f\"T_TTA {weight_type}\"] = {\n",
    "        \"accuracy\": accuracy_score(true_labels, T_TTA_preds),\n",
    "        \"f1\": f1_score(true_labels, T_TTA_preds, average='weighted'),\n",
    "        \"precision\": precision_score(true_labels, T_TTA_preds, average='weighted'),\n",
    "        \"recall\": recall_score(true_labels, T_TTA_preds, average='weighted')\n",
    "    }\n",
    "    results[f\"R_TTA {weight_type}\"] = {\n",
    "        \"accuracy\": accuracy_score(true_labels, R_TTA_preds),\n",
    "        \"f1\": f1_score(true_labels, R_TTA_preds, average='weighted'),\n",
    "        \"precision\": precision_score(true_labels, R_TTA_preds, average='weighted'),\n",
    "        \"recall\": recall_score(true_labels, R_TTA_preds, average='weighted')\n",
    "    }\n",
    "    results[f\"MSTTA {weight_type}\"] = {\n",
    "        \"accuracy\": accuracy_score(true_labels, MSTTA_preds),\n",
    "        \"f1\": f1_score(true_labels, MSTTA_preds, average='weighted'),\n",
    "        \"precision\": precision_score(true_labels, MSTTA_preds, average='weighted'),\n",
    "        \"recall\": recall_score(true_labels, MSTTA_preds, average='weighted')\n",
    "    }\n",
    "\n",
    "for method, metrics in results.items():\n",
    "    print(f\"{method} - Accuracy: {metrics['accuracy']:.4f}, Precision: {metrics['precision']:.4f}, Recall: {metrics['recall']:.4f}, F1: {metrics['f1']:.4f}\")\n"
   ]
  },
  {
   "cell_type": "code",
   "execution_count": null,
   "id": "9a4d817a-b1b6-4a8f-b48b-ad45ed9613f6",
   "metadata": {},
   "outputs": [],
   "source": []
  }
 ],
 "metadata": {
  "kernelspec": {
   "display_name": "pytorch",
   "language": "python",
   "name": "pytorch"
  },
  "language_info": {
   "codemirror_mode": {
    "name": "ipython",
    "version": 3
   },
   "file_extension": ".py",
   "mimetype": "text/x-python",
   "name": "python",
   "nbconvert_exporter": "python",
   "pygments_lexer": "ipython3",
   "version": "3.9.19"
  }
 },
 "nbformat": 4,
 "nbformat_minor": 5
}
